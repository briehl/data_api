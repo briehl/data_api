{
 "cells": [
  {
   "cell_type": "markdown",
   "metadata": {},
   "source": [
    "# Example \n",
    "of building a notebook-friendly object into the output of the data API\n",
    "\n",
    "Author: Dan Gunter"
   ]
  },
  {
   "cell_type": "markdown",
   "metadata": {},
   "source": [
    "## Initialization"
   ]
  },
  {
   "cell_type": "markdown",
   "metadata": {},
   "source": [
    "### Imports\n",
    "Set up matplotlib, the qgrid (nice table), and import biokbase"
   ]
  },
  {
   "cell_type": "code",
   "execution_count": 1,
   "metadata": {
    "collapsed": true
   },
   "outputs": [],
   "source": [
    "%matplotlib inline\n",
    "import matplotlib.pyplot as plt"
   ]
  },
  {
   "cell_type": "code",
   "execution_count": 2,
   "metadata": {
    "collapsed": false
   },
   "outputs": [],
   "source": [
    "import qgrid\n",
    "qgrid.nbinstall()"
   ]
  },
  {
   "cell_type": "code",
   "execution_count": 3,
   "metadata": {
    "collapsed": false
   },
   "outputs": [
    {
     "data": {
      "text/plain": [
       "True"
      ]
     },
     "execution_count": 3,
     "metadata": {},
     "output_type": "execute_result"
    }
   ],
   "source": [
    "from biokbase import data_api\n",
    "from biokbase.data_api import display\n",
    "display.nbviewer_mode(True)"
   ]
  },
  {
   "cell_type": "markdown",
   "metadata": {},
   "source": [
    "### Authorization\n",
    "In the vanilla notebook, you need to manually set an auth. token. You'll need your own value for this, of course.\n",
    "Get this from the running narrative, e.g. write a narrative code cell that has:\n",
    "`import os; print(os.environ('KB_AUTH_TOKEN'))`"
   ]
  },
  {
   "cell_type": "code",
   "execution_count": 4,
   "metadata": {
    "collapsed": false
   },
   "outputs": [],
   "source": [
    "import os\n",
    "os.environ['KB_AUTH_TOKEN'] = open('/tmp/kb_auth_token.txt').read().strip()"
   ]
  },
  {
   "cell_type": "markdown",
   "metadata": {},
   "source": [
    "## Find and load an object\n",
    "Open the workspace (1019) and get a Rhodobacter assembly from it"
   ]
  },
  {
   "cell_type": "code",
   "execution_count": 5,
   "metadata": {
    "collapsed": false
   },
   "outputs": [],
   "source": [
    "b = data_api.browse(1019)"
   ]
  },
  {
   "cell_type": "code",
   "execution_count": 6,
   "metadata": {
    "collapsed": true
   },
   "outputs": [],
   "source": [
    "x = b[0].object # Assembly object"
   ]
  },
  {
   "cell_type": "markdown",
   "metadata": {},
   "source": [
    "## Get the contigs for the assembly\n",
    "This takes a while because the current implementation loads the whole assembly, not just the 300 or so strings with the contig values."
   ]
  },
  {
   "cell_type": "code",
   "execution_count": 7,
   "metadata": {
    "collapsed": true
   },
   "outputs": [],
   "source": [
    "cid_strings = x.get_contig_ids() # 1 min"
   ]
  },
  {
   "cell_type": "code",
   "execution_count": 8,
   "metadata": {
    "collapsed": true
   },
   "outputs": [],
   "source": [
    "cids = display.Contigs(cid_strings)"
   ]
  },
  {
   "cell_type": "markdown",
   "metadata": {},
   "source": [
    "## View the contigs\n",
    "The `Contigs` object wraps the list of contigs as a Pandas DataFrame (with the qgrid output enabled), so as you can see the plot() function is immediately available. The list of strings in the raw contig IDs is parsed to a set of columns and values for the DataFrame."
   ]
  },
  {
   "cell_type": "code",
   "execution_count": 9,
   "metadata": {
    "collapsed": false
   },
   "outputs": [
    {
     "data": {
      "text/plain": [
       "<matplotlib.axes._subplots.AxesSubplot at 0x10b3b8bd0>"
      ]
     },
     "execution_count": 9,
     "metadata": {},
     "output_type": "execute_result"
    },
    {
     "data": {
      "image/png": "[encoded data removed]",
      "text/plain": [
       "<matplotlib.figure.Figure at 0x10a188f90>"
      ]
     },
     "metadata": {},
     "output_type": "display_data"
    }
   ],
   "source": [
    "cids.plot(x='NODE', y='length', kind='scatter')"
   ]
  },
  {
   "cell_type": "markdown",
   "metadata": {},
   "source": [
    "The default display is the nice sortable, scrollable, etc. table from the `qgrid` package."
   ]
  },
  {
   "cell_type": "code",
   "execution_count": 10,
   "metadata": {
    "collapsed": false
   },
   "outputs": [
    {
     "data": {
      "text/html": [
       "<script type=\"text/javascript\">\n",
       "if ($(\"#dg-css\").length == 0){\n",
       "    $(\"head\").append([\n",
       "        \"<link href='https://cdn.rawgit.com/quantopian/qgrid/ddf33c0efb813cd574f3838f6cf1fd584b733621/qgrid/qgridjs//lib/slick.grid.css' rel='stylesheet'>\",\n",
       "        \"<link href='https://cdn.rawgit.com/quantopian/qgrid/ddf33c0efb813cd574f3838f6cf1fd584b733621/qgrid/qgridjs//lib/slick-default-theme.css' rel='stylesheet'>\",\n",
       "        \"<link href='http://cdnjs.cloudflare.com/ajax/libs/jqueryui/1.10.4/css/jquery-ui.min.css' rel='stylesheet'>\",\n",
       "        \"<link id='dg-css' href='https://cdn.rawgit.com/quantopian/qgrid/ddf33c0efb813cd574f3838f6cf1fd584b733621/qgrid/qgridjs//qgrid.css' rel='stylesheet'>\"\n",
       "    ]);\n",
       "}\n",
       "</script>\n",
       "<div class='q-grid-container'>\n",
       "<div id='582259a9-a343-409b-a528-d29eeac1fb1b' class='q-grid'></div>\n",
       "</div>"
      ]
     },
     "metadata": {},
     "output_type": "display_data"
    },
    {
     "data": {
      "application/javascript": [
       "var path_dictionary = {\n",
       "    jquery_drag: \"https://cdn.rawgit.com/quantopian/qgrid/ddf33c0efb813cd574f3838f6cf1fd584b733621/qgrid/qgridjs//lib/jquery.event.drag-2.2\",\n",
       "    slick_core: \"https://cdn.rawgit.com/quantopian/qgrid/ddf33c0efb813cd574f3838f6cf1fd584b733621/qgrid/qgridjs//lib/slick.core.2.2\",\n",
       "    slick_data_view: \"https://cdn.rawgit.com/quantopian/qgrid/ddf33c0efb813cd574f3838f6cf1fd584b733621/qgrid/qgridjs//lib/slick.dataview.2.2\",\n",
       "    slick_check_box_column: \"https://cdn.rawgit.com/quantopian/qgrid/ddf33c0efb813cd574f3838f6cf1fd584b733621/qgrid/qgridjs//lib/slick.checkboxselectcolumn\",\n",
       "    slick_row_selection_model: \"https://cdn.rawgit.com/quantopian/qgrid/ddf33c0efb813cd574f3838f6cf1fd584b733621/qgrid/qgridjs//lib/slick.rowselectionmodel\",\n",
       "    slick_grid: \"https://cdn.rawgit.com/quantopian/qgrid/ddf33c0efb813cd574f3838f6cf1fd584b733621/qgrid/qgridjs//lib/slick.grid.2.2\",\n",
       "    data_grid: \"https://cdn.rawgit.com/quantopian/qgrid/ddf33c0efb813cd574f3838f6cf1fd584b733621/qgrid/qgridjs//qgrid\",\n",
       "    date_filter: \"https://cdn.rawgit.com/quantopian/qgrid/ddf33c0efb813cd574f3838f6cf1fd584b733621/qgrid/qgridjs//qgrid.datefilter\",\n",
       "    slider_filter: \"https://cdn.rawgit.com/quantopian/qgrid/ddf33c0efb813cd574f3838f6cf1fd584b733621/qgrid/qgridjs//qgrid.sliderfilter\",\n",
       "    text_filter: \"https://cdn.rawgit.com/quantopian/qgrid/ddf33c0efb813cd574f3838f6cf1fd584b733621/qgrid/qgridjs//qgrid.textfilter\",\n",
       "    filter_base:  \"https://cdn.rawgit.com/quantopian/qgrid/ddf33c0efb813cd574f3838f6cf1fd584b733621/qgrid/qgridjs//qgrid.filterbase\",\n",
       "    handlebars: \"https://cdnjs.cloudflare.com/ajax/libs/handlebars.js/2.0.0/handlebars.min\"\n",
       "};\n",
       "\n",
       "var existing_config = require.s.contexts._.config;\n",
       "if (!existing_config.paths['underscore']){\n",
       "    path_dictionary['underscore'] = \"https://cdnjs.cloudflare.com/ajax/libs/underscore.js/1.7.0/underscore-min\";\n",
       "}\n",
       "\n",
       "if (!existing_config.paths['moment']){\n",
       "    path_dictionary['moment'] = \"https://cdnjs.cloudflare.com/ajax/libs/moment.js/2.8.3/moment.min\";\n",
       "}\n",
       "\n",
       "if (!existing_config.paths['jqueryui']){\n",
       "    path_dictionary['jqueryui'] = \"https://ajax.googleapis.com/ajax/libs/jqueryui/1.11.1/jquery-ui.min\";\n",
       "}\n",
       "\n",
       "require.config({\n",
       "    paths: path_dictionary\n",
       "});\n",
       "\n",
       "if (typeof jQuery === 'function') {\n",
       "    define('jquery', function() { return jQuery; });\n",
       "}\n",
       "\n",
       "require([\n",
       "    'jquery',\n",
       "    'jquery_drag',\n",
       "    'slick_core',\n",
       "    'slick_data_view'\n",
       "],\n",
       "function($){\n",
       "    $('#582259a9-a343-409b-a528-d29eeac1fb1b').closest('.rendered_html').removeClass('rendered_html');\n",
       "    require([\n",
       "      'slick_check_box_column',\n",
       "      'slick_row_selection_model',\n",
       "      'slick_grid'\n",
       "    ], function(){\n",
       "        require([\"data_grid\"], function(dgrid){\n",
       "            var grid = new dgrid.QGrid('#582259a9-a343-409b-a528-d29eeac1fb1b', [{\"null\":0,\"ID\":95.0,\"NODE\":48.0,\"cov\":4.91263,\"length\":21448.0},{\"null\":1,\"ID\":307.0,\"NODE\":154.0,\"cov\":5.05327,\"length\":9553.0},{\"null\":2,\"ID\":49.0,\"NODE\":25.0,\"cov\":4.90142,\"length\":29402.0},{\"null\":3,\"ID\":369.0,\"NODE\":185.0,\"cov\":5.03663,\"length\":8164.0},{\"null\":4,\"ID\":77.0,\"NODE\":39.0,\"cov\":4.96429,\"length\":23133.0},{\"null\":5,\"ID\":109.0,\"NODE\":55.0,\"cov\":4.99535,\"length\":20473.0},{\"null\":6,\"ID\":361.0,\"NODE\":181.0,\"cov\":5.13989,\"length\":8276.0},{\"null\":7,\"ID\":117.0,\"NODE\":59.0,\"cov\":4.9548,\"length\":19500.0},{\"null\":8,\"ID\":479.0,\"NODE\":240.0,\"cov\":5.12367,\"length\":5335.0},{\"null\":9,\"ID\":105.0,\"NODE\":53.0,\"cov\":4.85459,\"length\":20666.0},{\"null\":10,\"ID\":113.0,\"NODE\":57.0,\"cov\":4.81968,\"length\":20080.0},{\"null\":11,\"ID\":27.0,\"NODE\":14.0,\"cov\":5.00684,\"length\":34118.0},{\"null\":12,\"ID\":491.0,\"NODE\":246.0,\"cov\":4.84904,\"length\":4851.0},{\"null\":13,\"ID\":37.0,\"NODE\":19.0,\"cov\":4.64447,\"length\":32190.0},{\"null\":14,\"ID\":271.0,\"NODE\":136.0,\"cov\":5.02868,\"length\":11005.0},{\"null\":15,\"ID\":315.0,\"NODE\":158.0,\"cov\":4.93233,\"length\":9129.0},{\"null\":16,\"ID\":243.0,\"NODE\":122.0,\"cov\":5.11274,\"length\":12092.0},{\"null\":17,\"ID\":531.0,\"NODE\":266.0,\"cov\":4.76203,\"length\":3215.0},{\"null\":18,\"ID\":469.0,\"NODE\":235.0,\"cov\":4.64996,\"length\":5643.0},{\"null\":19,\"ID\":301.0,\"NODE\":151.0,\"cov\":5.11468,\"length\":9778.0},{\"null\":20,\"ID\":45.0,\"NODE\":23.0,\"cov\":4.90673,\"length\":30299.0},{\"null\":21,\"ID\":91.0,\"NODE\":46.0,\"cov\":4.82676,\"length\":22077.0},{\"null\":22,\"ID\":51.0,\"NODE\":26.0,\"cov\":4.9582,\"length\":28068.0},{\"null\":23,\"ID\":29.0,\"NODE\":15.0,\"cov\":4.88141,\"length\":33885.0},{\"null\":24,\"ID\":389.0,\"NODE\":195.0,\"cov\":5.17126,\"length\":7827.0},{\"null\":25,\"ID\":417.0,\"NODE\":209.0,\"cov\":5.05717,\"length\":6964.0},{\"null\":26,\"ID\":127.0,\"NODE\":64.0,\"cov\":5.00255,\"length\":18852.0},{\"null\":27,\"ID\":511.0,\"NODE\":256.0,\"cov\":4.86964,\"length\":3998.0},{\"null\":28,\"ID\":81.0,\"NODE\":41.0,\"cov\":4.7224,\"length\":23088.0},{\"null\":29,\"ID\":589.0,\"NODE\":295.0,\"cov\":3.96956,\"length\":712.0},{\"null\":30,\"ID\":339.0,\"NODE\":170.0,\"cov\":5.09759,\"length\":8611.0},{\"null\":31,\"ID\":311.0,\"NODE\":156.0,\"cov\":5.057,\"length\":9353.0},{\"null\":32,\"ID\":347.0,\"NODE\":174.0,\"cov\":5.07433,\"length\":8477.0},{\"null\":33,\"ID\":327.0,\"NODE\":164.0,\"cov\":4.90709,\"length\":8902.0},{\"null\":34,\"ID\":67.0,\"NODE\":34.0,\"cov\":4.96502,\"length\":26012.0},{\"null\":35,\"ID\":391.0,\"NODE\":196.0,\"cov\":4.94519,\"length\":7736.0},{\"null\":36,\"ID\":395.0,\"NODE\":198.0,\"cov\":5.20552,\"length\":7373.0},{\"null\":37,\"ID\":13.0,\"NODE\":7.0,\"cov\":4.78048,\"length\":39901.0},{\"null\":38,\"ID\":385.0,\"NODE\":193.0,\"cov\":4.94096,\"length\":7880.0},{\"null\":39,\"ID\":601.0,\"NODE\":301.0,\"cov\":1.89372,\"length\":262.0},{\"null\":40,\"ID\":231.0,\"NODE\":116.0,\"cov\":4.90666,\"length\":12761.0},{\"null\":41,\"ID\":241.0,\"NODE\":121.0,\"cov\":5.12352,\"length\":12231.0},{\"null\":42,\"ID\":317.0,\"NODE\":159.0,\"cov\":4.72542,\"length\":9098.0},{\"null\":43,\"ID\":397.0,\"NODE\":199.0,\"cov\":4.91113,\"length\":7324.0},{\"null\":44,\"ID\":353.0,\"NODE\":177.0,\"cov\":5.08922,\"length\":8439.0},{\"null\":45,\"ID\":253.0,\"NODE\":127.0,\"cov\":4.80841,\"length\":11611.0},{\"null\":46,\"ID\":151.0,\"NODE\":76.0,\"cov\":4.86917,\"length\":16963.0},{\"null\":47,\"ID\":163.0,\"NODE\":82.0,\"cov\":5.22302,\"length\":16668.0},{\"null\":48,\"ID\":363.0,\"NODE\":182.0,\"cov\":4.81602,\"length\":8208.0},{\"null\":49,\"ID\":565.0,\"NODE\":283.0,\"cov\":5.46587,\"length\":1652.0},{\"null\":50,\"ID\":283.0,\"NODE\":142.0,\"cov\":5.03386,\"length\":10569.0},{\"null\":51,\"ID\":539.0,\"NODE\":270.0,\"cov\":4.75192,\"length\":2796.0},{\"null\":52,\"ID\":471.0,\"NODE\":236.0,\"cov\":5.07342,\"length\":5639.0},{\"null\":53,\"ID\":39.0,\"NODE\":20.0,\"cov\":4.89551,\"length\":31837.0},{\"null\":54,\"ID\":245.0,\"NODE\":123.0,\"cov\":4.80226,\"length\":11919.0},{\"null\":55,\"ID\":59.0,\"NODE\":30.0,\"cov\":5.01798,\"length\":27748.0},{\"null\":56,\"ID\":421.0,\"NODE\":211.0,\"cov\":4.89444,\"length\":6819.0},{\"null\":57,\"ID\":247.0,\"NODE\":124.0,\"cov\":5.00556,\"length\":11746.0},{\"null\":58,\"ID\":321.0,\"NODE\":161.0,\"cov\":5.10765,\"length\":9038.0},{\"null\":59,\"ID\":597.0,\"NODE\":299.0,\"cov\":3.12731,\"length\":542.0},{\"null\":60,\"ID\":129.0,\"NODE\":65.0,\"cov\":4.84634,\"length\":18726.0},{\"null\":61,\"ID\":209.0,\"NODE\":105.0,\"cov\":4.8195,\"length\":13340.0},{\"null\":62,\"ID\":487.0,\"NODE\":244.0,\"cov\":4.97891,\"length\":5033.0},{\"null\":63,\"ID\":233.0,\"NODE\":117.0,\"cov\":4.89028,\"length\":12760.0},{\"null\":64,\"ID\":255.0,\"NODE\":128.0,\"cov\":4.84982,\"length\":11588.0},{\"null\":65,\"ID\":145.0,\"NODE\":73.0,\"cov\":5.02598,\"length\":17456.0},{\"null\":66,\"ID\":261.0,\"NODE\":131.0,\"cov\":4.74815,\"length\":11530.0},{\"null\":67,\"ID\":431.0,\"NODE\":216.0,\"cov\":5.07124,\"length\":6568.0},{\"null\":68,\"ID\":375.0,\"NODE\":188.0,\"cov\":4.56062,\"length\":8080.0},{\"null\":69,\"ID\":519.0,\"NODE\":260.0,\"cov\":4.89663,\"length\":3828.0},{\"null\":70,\"ID\":413.0,\"NODE\":207.0,\"cov\":5.13869,\"length\":7013.0},{\"null\":71,\"ID\":535.0,\"NODE\":268.0,\"cov\":4.92973,\"length\":3143.0},{\"null\":72,\"ID\":177.0,\"NODE\":89.0,\"cov\":4.97431,\"length\":15820.0},{\"null\":73,\"ID\":313.0,\"NODE\":157.0,\"cov\":4.9302,\"length\":9339.0},{\"null\":74,\"ID\":393.0,\"NODE\":197.0,\"cov\":4.84304,\"length\":7611.0},{\"null\":75,\"ID\":515.0,\"NODE\":258.0,\"cov\":4.68536,\"length\":3853.0},{\"null\":76,\"ID\":147.0,\"NODE\":74.0,\"cov\":4.79372,\"length\":17454.0},{\"null\":77,\"ID\":83.0,\"NODE\":42.0,\"cov\":5.00743,\"length\":22947.0},{\"null\":78,\"ID\":221.0,\"NODE\":111.0,\"cov\":4.82119,\"length\":13041.0},{\"null\":79,\"ID\":365.0,\"NODE\":183.0,\"cov\":4.68312,\"length\":8181.0},{\"null\":80,\"ID\":605.0,\"NODE\":303.0,\"cov\":3.01724,\"length\":229.0},{\"null\":81,\"ID\":71.0,\"NODE\":36.0,\"cov\":4.82887,\"length\":24282.0},{\"null\":82,\"ID\":409.0,\"NODE\":205.0,\"cov\":4.97995,\"length\":7088.0},{\"null\":83,\"ID\":199.0,\"NODE\":100.0,\"cov\":5.0233,\"length\":14392.0},{\"null\":84,\"ID\":507.0,\"NODE\":254.0,\"cov\":4.06138,\"length\":4112.0},{\"null\":85,\"ID\":79.0,\"NODE\":40.0,\"cov\":4.99137,\"length\":23118.0},{\"null\":86,\"ID\":99.0,\"NODE\":50.0,\"cov\":4.87299,\"length\":21250.0},{\"null\":87,\"ID\":529.0,\"NODE\":265.0,\"cov\":5.41453,\"length\":3220.0},{\"null\":88,\"ID\":541.0,\"NODE\":271.0,\"cov\":4.59587,\"length\":2673.0},{\"null\":89,\"ID\":551.0,\"NODE\":276.0,\"cov\":4.98353,\"length\":2301.0},{\"null\":90,\"ID\":319.0,\"NODE\":160.0,\"cov\":4.7889,\"length\":9065.0},{\"null\":91,\"ID\":485.0,\"NODE\":243.0,\"cov\":5.04558,\"length\":5079.0},{\"null\":92,\"ID\":309.0,\"NODE\":155.0,\"cov\":4.85491,\"length\":9504.0},{\"null\":93,\"ID\":125.0,\"NODE\":63.0,\"cov\":4.95358,\"length\":18970.0},{\"null\":94,\"ID\":451.0,\"NODE\":226.0,\"cov\":5.28473,\"length\":6022.0},{\"null\":95,\"ID\":169.0,\"NODE\":85.0,\"cov\":4.96197,\"length\":16251.0},{\"null\":96,\"ID\":137.0,\"NODE\":69.0,\"cov\":4.72498,\"length\":18032.0},{\"null\":97,\"ID\":213.0,\"NODE\":107.0,\"cov\":5.1024,\"length\":13121.0},{\"null\":98,\"ID\":87.0,\"NODE\":44.0,\"cov\":4.90819,\"length\":22155.0},{\"null\":99,\"ID\":477.0,\"NODE\":239.0,\"cov\":5.19514,\"length\":5359.0},{\"null\":100,\"ID\":249.0,\"NODE\":125.0,\"cov\":4.93181,\"length\":11669.0},{\"null\":101,\"ID\":419.0,\"NODE\":210.0,\"cov\":4.50864,\"length\":6822.0},{\"null\":102,\"ID\":571.0,\"NODE\":286.0,\"cov\":5.21883,\"length\":1531.0},{\"null\":103,\"ID\":219.0,\"NODE\":110.0,\"cov\":5.08847,\"length\":13076.0},{\"null\":104,\"ID\":561.0,\"NODE\":281.0,\"cov\":4.53391,\"length\":1677.0},{\"null\":105,\"ID\":223.0,\"NODE\":112.0,\"cov\":4.96699,\"length\":13022.0},{\"null\":106,\"ID\":287.0,\"NODE\":144.0,\"cov\":5.00701,\"length\":10326.0},{\"null\":107,\"ID\":461.0,\"NODE\":231.0,\"cov\":5.21587,\"length\":5790.0},{\"null\":108,\"ID\":523.0,\"NODE\":262.0,\"cov\":5.11264,\"length\":3535.0},{\"null\":109,\"ID\":463.0,\"NODE\":232.0,\"cov\":5.00018,\"length\":5760.0},{\"null\":110,\"ID\":387.0,\"NODE\":194.0,\"cov\":4.86997,\"length\":7876.0},{\"null\":111,\"ID\":329.0,\"NODE\":165.0,\"cov\":4.96751,\"length\":8858.0},{\"null\":112,\"ID\":265.0,\"NODE\":133.0,\"cov\":4.98268,\"length\":11372.0},{\"null\":113,\"ID\":65.0,\"NODE\":33.0,\"cov\":4.98535,\"length\":26062.0},{\"null\":114,\"ID\":3.0,\"NODE\":2.0,\"cov\":5.00111,\"length\":54223.0},{\"null\":115,\"ID\":493.0,\"NODE\":247.0,\"cov\":4.98144,\"length\":4850.0},{\"null\":116,\"ID\":281.0,\"NODE\":141.0,\"cov\":4.87229,\"length\":10602.0},{\"null\":117,\"ID\":579.0,\"NODE\":290.0,\"cov\":3.8436,\"length\":1078.0},{\"null\":118,\"ID\":239.0,\"NODE\":120.0,\"cov\":4.98675,\"length\":12580.0},{\"null\":119,\"ID\":111.0,\"NODE\":56.0,\"cov\":4.8217,\"length\":20083.0},{\"null\":120,\"ID\":225.0,\"NODE\":113.0,\"cov\":4.8331,\"length\":12925.0},{\"null\":121,\"ID\":505.0,\"NODE\":253.0,\"cov\":4.94849,\"length\":4462.0},{\"null\":122,\"ID\":607.0,\"NODE\":304.0,\"cov\":5.80769,\"length\":133.0},{\"null\":123,\"ID\":503.0,\"NODE\":252.0,\"cov\":4.3427,\"length\":4502.0},{\"null\":124,\"ID\":449.0,\"NODE\":225.0,\"cov\":4.9995,\"length\":6033.0},{\"null\":125,\"ID\":25.0,\"NODE\":13.0,\"cov\":5.16026,\"length\":34206.0},{\"null\":126,\"ID\":257.0,\"NODE\":129.0,\"cov\":4.84242,\"length\":11554.0},{\"null\":127,\"ID\":483.0,\"NODE\":242.0,\"cov\":4.79513,\"length\":5268.0},{\"null\":128,\"ID\":131.0,\"NODE\":66.0,\"cov\":4.95745,\"length\":18668.0},{\"null\":129,\"ID\":575.0,\"NODE\":288.0,\"cov\":4.11941,\"length\":1420.0},{\"null\":130,\"ID\":433.0,\"NODE\":217.0,\"cov\":5.03757,\"length\":6549.0},{\"null\":131,\"ID\":583.0,\"NODE\":292.0,\"cov\":4.70103,\"length\":831.0},{\"null\":132,\"ID\":55.0,\"NODE\":28.0,\"cov\":4.83238,\"length\":28017.0},{\"null\":133,\"ID\":425.0,\"NODE\":213.0,\"cov\":5.13159,\"length\":6674.0},{\"null\":134,\"ID\":373.0,\"NODE\":187.0,\"cov\":5.10818,\"length\":8088.0},{\"null\":135,\"ID\":381.0,\"NODE\":191.0,\"cov\":4.77836,\"length\":7937.0},{\"null\":136,\"ID\":107.0,\"NODE\":54.0,\"cov\":4.85953,\"length\":20593.0},{\"null\":137,\"ID\":473.0,\"NODE\":237.0,\"cov\":4.6808,\"length\":5387.0},{\"null\":138,\"ID\":41.0,\"NODE\":21.0,\"cov\":4.88566,\"length\":31541.0},{\"null\":139,\"ID\":543.0,\"NODE\":272.0,\"cov\":4.75524,\"length\":2629.0},{\"null\":140,\"ID\":197.0,\"NODE\":99.0,\"cov\":4.85031,\"length\":14819.0},{\"null\":141,\"ID\":467.0,\"NODE\":234.0,\"cov\":5.26878,\"length\":5647.0},{\"null\":142,\"ID\":141.0,\"NODE\":71.0,\"cov\":4.81191,\"length\":17674.0},{\"null\":143,\"ID\":533.0,\"NODE\":267.0,\"cov\":4.38518,\"length\":3186.0},{\"null\":144,\"ID\":57.0,\"NODE\":29.0,\"cov\":4.9193,\"length\":27910.0},{\"null\":145,\"ID\":181.0,\"NODE\":91.0,\"cov\":5.08084,\"length\":15715.0},{\"null\":146,\"ID\":75.0,\"NODE\":38.0,\"cov\":4.96339,\"length\":23575.0},{\"null\":147,\"ID\":47.0,\"NODE\":24.0,\"cov\":4.91759,\"length\":30269.0},{\"null\":148,\"ID\":15.0,\"NODE\":8.0,\"cov\":4.96957,\"length\":38235.0},{\"null\":149,\"ID\":9.0,\"NODE\":5.0,\"cov\":5.02999,\"length\":46000.0},{\"null\":150,\"ID\":357.0,\"NODE\":179.0,\"cov\":4.88989,\"length\":8365.0},{\"null\":151,\"ID\":5.0,\"NODE\":3.0,\"cov\":4.85687,\"length\":52614.0},{\"null\":152,\"ID\":453.0,\"NODE\":227.0,\"cov\":4.93376,\"length\":5973.0},{\"null\":153,\"ID\":423.0,\"NODE\":212.0,\"cov\":5.31277,\"length\":6766.0},{\"null\":154,\"ID\":443.0,\"NODE\":222.0,\"cov\":5.23971,\"length\":6229.0},{\"null\":155,\"ID\":119.0,\"NODE\":60.0,\"cov\":4.7782,\"length\":19334.0},{\"null\":156,\"ID\":521.0,\"NODE\":261.0,\"cov\":4.93435,\"length\":3604.0},{\"null\":157,\"ID\":497.0,\"NODE\":249.0,\"cov\":5.22251,\"length\":4657.0},{\"null\":158,\"ID\":165.0,\"NODE\":83.0,\"cov\":5.05997,\"length\":16663.0},{\"null\":159,\"ID\":167.0,\"NODE\":84.0,\"cov\":4.89558,\"length\":16451.0},{\"null\":160,\"ID\":577.0,\"NODE\":289.0,\"cov\":4.6428,\"length\":1326.0},{\"null\":161,\"ID\":183.0,\"NODE\":92.0,\"cov\":4.80672,\"length\":15613.0},{\"null\":162,\"ID\":303.0,\"NODE\":152.0,\"cov\":4.92054,\"length\":9695.0},{\"null\":163,\"ID\":191.0,\"NODE\":96.0,\"cov\":5.01631,\"length\":15072.0},{\"null\":164,\"ID\":139.0,\"NODE\":70.0,\"cov\":4.94537,\"length\":17793.0},{\"null\":165,\"ID\":237.0,\"NODE\":119.0,\"cov\":4.77461,\"length\":12629.0},{\"null\":166,\"ID\":115.0,\"NODE\":58.0,\"cov\":4.92538,\"length\":20037.0},{\"null\":167,\"ID\":277.0,\"NODE\":139.0,\"cov\":4.8968,\"length\":10888.0},{\"null\":168,\"ID\":513.0,\"NODE\":257.0,\"cov\":4.81955,\"length\":3984.0},{\"null\":169,\"ID\":401.0,\"NODE\":201.0,\"cov\":5.15527,\"length\":7307.0},{\"null\":170,\"ID\":275.0,\"NODE\":138.0,\"cov\":4.96563,\"length\":10909.0},{\"null\":171,\"ID\":305.0,\"NODE\":153.0,\"cov\":5.03523,\"length\":9650.0},{\"null\":172,\"ID\":189.0,\"NODE\":95.0,\"cov\":4.94855,\"length\":15331.0},{\"null\":173,\"ID\":207.0,\"NODE\":104.0,\"cov\":4.72619,\"length\":13378.0},{\"null\":174,\"ID\":559.0,\"NODE\":280.0,\"cov\":4.45242,\"length\":1936.0},{\"null\":175,\"ID\":405.0,\"NODE\":203.0,\"cov\":4.82537,\"length\":7150.0},{\"null\":176,\"ID\":85.0,\"NODE\":43.0,\"cov\":5.00599,\"length\":22245.0},{\"null\":177,\"ID\":155.0,\"NODE\":78.0,\"cov\":4.97582,\"length\":16928.0},{\"null\":178,\"ID\":7.0,\"NODE\":4.0,\"cov\":4.85873,\"length\":47065.0},{\"null\":179,\"ID\":21.0,\"NODE\":11.0,\"cov\":4.92079,\"length\":35947.0},{\"null\":180,\"ID\":587.0,\"NODE\":294.0,\"cov\":3.71128,\"length\":720.0},{\"null\":181,\"ID\":427.0,\"NODE\":214.0,\"cov\":4.92988,\"length\":6672.0},{\"null\":182,\"ID\":17.0,\"NODE\":9.0,\"cov\":4.82116,\"length\":37927.0},{\"null\":183,\"ID\":159.0,\"NODE\":80.0,\"cov\":5.049,\"length\":16728.0},{\"null\":184,\"ID\":499.0,\"NODE\":250.0,\"cov\":4.2261,\"length\":4553.0},{\"null\":185,\"ID\":133.0,\"NODE\":67.0,\"cov\":4.92624,\"length\":18304.0},{\"null\":186,\"ID\":295.0,\"NODE\":148.0,\"cov\":4.92149,\"length\":9990.0},{\"null\":187,\"ID\":33.0,\"NODE\":17.0,\"cov\":4.84984,\"length\":33346.0},{\"null\":188,\"ID\":517.0,\"NODE\":259.0,\"cov\":5.02739,\"length\":3852.0},{\"null\":189,\"ID\":367.0,\"NODE\":184.0,\"cov\":4.79645,\"length\":8166.0},{\"null\":190,\"ID\":205.0,\"NODE\":103.0,\"cov\":4.94225,\"length\":13389.0},{\"null\":191,\"ID\":161.0,\"NODE\":81.0,\"cov\":4.92922,\"length\":16684.0},{\"null\":192,\"ID\":101.0,\"NODE\":51.0,\"cov\":5.24221,\"length\":20925.0},{\"null\":193,\"ID\":501.0,\"NODE\":251.0,\"cov\":4.4435,\"length\":4533.0},{\"null\":194,\"ID\":97.0,\"NODE\":49.0,\"cov\":5.00922,\"length\":21423.0},{\"null\":195,\"ID\":545.0,\"NODE\":273.0,\"cov\":4.32116,\"length\":2465.0},{\"null\":196,\"ID\":555.0,\"NODE\":278.0,\"cov\":4.18422,\"length\":2134.0},{\"null\":197,\"ID\":193.0,\"NODE\":97.0,\"cov\":4.86051,\"length\":15017.0},{\"null\":198,\"ID\":229.0,\"NODE\":115.0,\"cov\":4.40733,\"length\":12767.0},{\"null\":199,\"ID\":267.0,\"NODE\":134.0,\"cov\":4.78893,\"length\":11279.0},{\"null\":200,\"ID\":273.0,\"NODE\":137.0,\"cov\":4.89498,\"length\":10977.0},{\"null\":201,\"ID\":331.0,\"NODE\":166.0,\"cov\":4.70986,\"length\":8830.0},{\"null\":202,\"ID\":235.0,\"NODE\":118.0,\"cov\":4.90325,\"length\":12634.0},{\"null\":203,\"ID\":455.0,\"NODE\":228.0,\"cov\":4.84377,\"length\":5963.0},{\"null\":204,\"ID\":23.0,\"NODE\":12.0,\"cov\":4.87698,\"length\":35789.0},{\"null\":205,\"ID\":341.0,\"NODE\":171.0,\"cov\":4.90421,\"length\":8563.0},{\"null\":206,\"ID\":69.0,\"NODE\":35.0,\"cov\":4.80458,\"length\":25534.0},{\"null\":207,\"ID\":563.0,\"NODE\":282.0,\"cov\":3.59429,\"length\":1667.0},{\"null\":208,\"ID\":553.0,\"NODE\":277.0,\"cov\":4.77788,\"length\":2144.0},{\"null\":209,\"ID\":349.0,\"NODE\":175.0,\"cov\":4.93265,\"length\":8474.0},{\"null\":210,\"ID\":61.0,\"NODE\":31.0,\"cov\":5.07544,\"length\":26939.0},{\"null\":211,\"ID\":175.0,\"NODE\":88.0,\"cov\":5.13779,\"length\":15913.0},{\"null\":212,\"ID\":525.0,\"NODE\":263.0,\"cov\":5.04275,\"length\":3447.0},{\"null\":213,\"ID\":215.0,\"NODE\":108.0,\"cov\":4.7265,\"length\":13108.0},{\"null\":214,\"ID\":595.0,\"NODE\":298.0,\"cov\":2.92939,\"length\":579.0},{\"null\":215,\"ID\":527.0,\"NODE\":264.0,\"cov\":4.98556,\"length\":3380.0},{\"null\":216,\"ID\":89.0,\"NODE\":45.0,\"cov\":4.83715,\"length\":22130.0},{\"null\":217,\"ID\":203.0,\"NODE\":102.0,\"cov\":4.8842,\"length\":13690.0},{\"null\":218,\"ID\":323.0,\"NODE\":162.0,\"cov\":4.75061,\"length\":9025.0},{\"null\":219,\"ID\":19.0,\"NODE\":10.0,\"cov\":4.89413,\"length\":36119.0},{\"null\":220,\"ID\":149.0,\"NODE\":75.0,\"cov\":4.84786,\"length\":17000.0},{\"null\":221,\"ID\":171.0,\"NODE\":86.0,\"cov\":4.91363,\"length\":16068.0},{\"null\":222,\"ID\":1.0,\"NODE\":1.0,\"cov\":4.95005,\"length\":58528.0},{\"null\":223,\"ID\":251.0,\"NODE\":126.0,\"cov\":4.68019,\"length\":11615.0},{\"null\":224,\"ID\":269.0,\"NODE\":135.0,\"cov\":4.81907,\"length\":11065.0},{\"null\":225,\"ID\":11.0,\"NODE\":6.0,\"cov\":4.80931,\"length\":43591.0},{\"null\":226,\"ID\":439.0,\"NODE\":220.0,\"cov\":5.05805,\"length\":6412.0},{\"null\":227,\"ID\":399.0,\"NODE\":200.0,\"cov\":5.26781,\"length\":7314.0},{\"null\":228,\"ID\":411.0,\"NODE\":206.0,\"cov\":5.04439,\"length\":7038.0},{\"null\":229,\"ID\":593.0,\"NODE\":297.0,\"cov\":4.33901,\"length\":642.0},{\"null\":230,\"ID\":415.0,\"NODE\":208.0,\"cov\":4.877,\"length\":6990.0},{\"null\":231,\"ID\":173.0,\"NODE\":87.0,\"cov\":4.96496,\"length\":16036.0},{\"null\":232,\"ID\":291.0,\"NODE\":146.0,\"cov\":5.07205,\"length\":10173.0},{\"null\":233,\"ID\":437.0,\"NODE\":219.0,\"cov\":5.14656,\"length\":6537.0},{\"null\":234,\"ID\":573.0,\"NODE\":287.0,\"cov\":4.38804,\"length\":1426.0},{\"null\":235,\"ID\":489.0,\"NODE\":245.0,\"cov\":5.00392,\"length\":4908.0},{\"null\":236,\"ID\":355.0,\"NODE\":178.0,\"cov\":4.9381,\"length\":8375.0},{\"null\":237,\"ID\":345.0,\"NODE\":173.0,\"cov\":4.94776,\"length\":8555.0},{\"null\":238,\"ID\":435.0,\"NODE\":218.0,\"cov\":5.03143,\"length\":6545.0},{\"null\":239,\"ID\":297.0,\"NODE\":149.0,\"cov\":4.80769,\"length\":9914.0},{\"null\":240,\"ID\":359.0,\"NODE\":180.0,\"cov\":4.71301,\"length\":8348.0},{\"null\":241,\"ID\":157.0,\"NODE\":79.0,\"cov\":5.00065,\"length\":16886.0},{\"null\":242,\"ID\":195.0,\"NODE\":98.0,\"cov\":5.17579,\"length\":14931.0},{\"null\":243,\"ID\":603.0,\"NODE\":302.0,\"cov\":2.45161,\"length\":241.0},{\"null\":244,\"ID\":585.0,\"NODE\":293.0,\"cov\":3.25367,\"length\":804.0},{\"null\":245,\"ID\":337.0,\"NODE\":169.0,\"cov\":5.02179,\"length\":8728.0},{\"null\":246,\"ID\":259.0,\"NODE\":130.0,\"cov\":4.94636,\"length\":11539.0},{\"null\":247,\"ID\":383.0,\"NODE\":192.0,\"cov\":4.70112,\"length\":7921.0},{\"null\":248,\"ID\":217.0,\"NODE\":109.0,\"cov\":4.87409,\"length\":13096.0},{\"null\":249,\"ID\":537.0,\"NODE\":269.0,\"cov\":5.21242,\"length\":2969.0},{\"null\":250,\"ID\":459.0,\"NODE\":230.0,\"cov\":5.28415,\"length\":5918.0},{\"null\":251,\"ID\":447.0,\"NODE\":224.0,\"cov\":4.74619,\"length\":6150.0},{\"null\":252,\"ID\":379.0,\"NODE\":190.0,\"cov\":5.03402,\"length\":8051.0},{\"null\":253,\"ID\":53.0,\"NODE\":27.0,\"cov\":4.95255,\"length\":28042.0},{\"null\":254,\"ID\":103.0,\"NODE\":52.0,\"cov\":4.8519,\"length\":20791.0},{\"null\":255,\"ID\":495.0,\"NODE\":248.0,\"cov\":5.09087,\"length\":4842.0},{\"null\":256,\"ID\":299.0,\"NODE\":150.0,\"cov\":4.85422,\"length\":9871.0},{\"null\":257,\"ID\":509.0,\"NODE\":255.0,\"cov\":4.83255,\"length\":4074.0},{\"null\":258,\"ID\":377.0,\"NODE\":189.0,\"cov\":4.87798,\"length\":8062.0},{\"null\":259,\"ID\":289.0,\"NODE\":145.0,\"cov\":4.67931,\"length\":10258.0},{\"null\":260,\"ID\":457.0,\"NODE\":229.0,\"cov\":5.13907,\"length\":5937.0},{\"null\":261,\"ID\":293.0,\"NODE\":147.0,\"cov\":4.98662,\"length\":10146.0},{\"null\":262,\"ID\":135.0,\"NODE\":68.0,\"cov\":4.69198,\"length\":18200.0},{\"null\":263,\"ID\":599.0,\"NODE\":300.0,\"cov\":2.81513,\"length\":293.0},{\"null\":264,\"ID\":73.0,\"NODE\":37.0,\"cov\":5.05354,\"length\":24132.0},{\"null\":265,\"ID\":481.0,\"NODE\":241.0,\"cov\":5.08037,\"length\":5293.0},{\"null\":266,\"ID\":263.0,\"NODE\":132.0,\"cov\":4.89795,\"length\":11373.0},{\"null\":267,\"ID\":325.0,\"NODE\":163.0,\"cov\":4.90929,\"length\":8996.0},{\"null\":268,\"ID\":371.0,\"NODE\":186.0,\"cov\":4.68454,\"length\":8091.0},{\"null\":269,\"ID\":343.0,\"NODE\":172.0,\"cov\":4.89734,\"length\":8559.0},{\"null\":270,\"ID\":591.0,\"NODE\":296.0,\"cov\":3.50153,\"length\":709.0},{\"null\":271,\"ID\":581.0,\"NODE\":291.0,\"cov\":2.78868,\"length\":850.0},{\"null\":272,\"ID\":465.0,\"NODE\":233.0,\"cov\":5.15499,\"length\":5707.0},{\"null\":273,\"ID\":93.0,\"NODE\":47.0,\"cov\":4.86249,\"length\":21465.0},{\"null\":274,\"ID\":43.0,\"NODE\":22.0,\"cov\":4.91323,\"length\":31091.0},{\"null\":275,\"ID\":63.0,\"NODE\":32.0,\"cov\":4.79506,\"length\":26609.0},{\"null\":276,\"ID\":403.0,\"NODE\":202.0,\"cov\":4.90521,\"length\":7292.0},{\"null\":277,\"ID\":123.0,\"NODE\":62.0,\"cov\":4.98211,\"length\":19287.0},{\"null\":278,\"ID\":187.0,\"NODE\":94.0,\"cov\":4.69666,\"length\":15447.0},{\"null\":279,\"ID\":121.0,\"NODE\":61.0,\"cov\":4.91417,\"length\":19326.0},{\"null\":280,\"ID\":475.0,\"NODE\":238.0,\"cov\":5.05353,\"length\":5360.0},{\"null\":281,\"ID\":179.0,\"NODE\":90.0,\"cov\":4.7202,\"length\":15759.0},{\"null\":282,\"ID\":201.0,\"NODE\":101.0,\"cov\":4.90761,\"length\":13888.0},{\"null\":283,\"ID\":143.0,\"NODE\":72.0,\"cov\":4.71141,\"length\":17464.0},{\"null\":284,\"ID\":185.0,\"NODE\":93.0,\"cov\":4.77859,\"length\":15556.0},{\"null\":285,\"ID\":407.0,\"NODE\":204.0,\"cov\":4.83593,\"length\":7107.0},{\"null\":286,\"ID\":227.0,\"NODE\":114.0,\"cov\":4.87411,\"length\":12892.0},{\"null\":287,\"ID\":333.0,\"NODE\":167.0,\"cov\":4.77398,\"length\":8802.0},{\"null\":288,\"ID\":351.0,\"NODE\":176.0,\"cov\":4.90493,\"length\":8470.0},{\"null\":289,\"ID\":429.0,\"NODE\":215.0,\"cov\":5.05809,\"length\":6597.0},{\"null\":290,\"ID\":35.0,\"NODE\":18.0,\"cov\":4.8199,\"length\":32298.0},{\"null\":291,\"ID\":547.0,\"NODE\":274.0,\"cov\":4.56989,\"length\":2380.0},{\"null\":292,\"ID\":335.0,\"NODE\":168.0,\"cov\":4.83793,\"length\":8798.0},{\"null\":293,\"ID\":567.0,\"NODE\":284.0,\"cov\":5.13303,\"length\":1581.0},{\"null\":294,\"ID\":441.0,\"NODE\":221.0,\"cov\":4.73272,\"length\":6333.0},{\"null\":295,\"ID\":279.0,\"NODE\":140.0,\"cov\":4.84681,\"length\":10865.0},{\"null\":296,\"ID\":31.0,\"NODE\":16.0,\"cov\":5.01436,\"length\":33689.0},{\"null\":297,\"ID\":557.0,\"NODE\":279.0,\"cov\":4.64048,\"length\":2066.0},{\"null\":298,\"ID\":549.0,\"NODE\":275.0,\"cov\":4.97101,\"length\":2332.0},{\"null\":299,\"ID\":153.0,\"NODE\":77.0,\"cov\":4.74533,\"length\":16932.0},{\"null\":300,\"ID\":569.0,\"NODE\":285.0,\"cov\":3.87624,\"length\":1566.0},{\"null\":301,\"ID\":211.0,\"NODE\":106.0,\"cov\":4.87718,\"length\":13196.0},{\"null\":302,\"ID\":445.0,\"NODE\":223.0,\"cov\":4.82533,\"length\":6181.0},{\"null\":303,\"ID\":285.0,\"NODE\":143.0,\"cov\":4.71182,\"length\":10406.0}], [{\"field\": null, \"type\": \"Integer\"}, {\"field\": \"ID\", \"type\": \"Float\"}, {\"field\": \"NODE\", \"type\": \"Float\"}, {\"field\": \"cov\", \"type\": \"Float\"}, {\"field\": \"length\", \"type\": \"Float\"}]);\n",
       "            grid.initialize_slick_grid();\n",
       "        });\n",
       "    });\n",
       "});\n"
      ]
     },
     "metadata": {},
     "output_type": "display_data"
    }
   ],
   "source": [
    "cids"
   ]
  },
  {
   "cell_type": "code",
   "execution_count": null,
   "metadata": {
    "collapsed": true
   },
   "outputs": [],
   "source": []
  }
 ],
 "metadata": {
  "kernelspec": {
   "display_name": "Python 2",
   "language": "python",
   "name": "python2"
  },
  "language_info": {
   "codemirror_mode": {
    "name": "ipython",
    "version": 2
   },
   "file_extension": ".py",
   "mimetype": "text/x-python",
   "name": "python",
   "nbconvert_exporter": "python",
   "pygments_lexer": "ipython2",
   "version": "2.7.10"
  }
 },
 "nbformat": 4,
 "nbformat_minor": 0
}
