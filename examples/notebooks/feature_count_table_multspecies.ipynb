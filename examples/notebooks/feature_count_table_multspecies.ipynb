{
 "cells": [
  {
   "cell_type": "code",
   "execution_count": 37,
   "metadata": {
    "collapsed": true
   },
   "outputs": [],
   "source": [
    "import os\n",
    "os.environ['KB_AUTH_TOKEN'] = open('/tmp/kb_auth_token.txt').read().strip()"
   ]
  },
  {
   "cell_type": "code",
   "execution_count": 42,
   "metadata": {
    "collapsed": false
   },
   "outputs": [],
   "source": [
    "import biokbase\n",
    "import biokbase.data_api.tests as tests\n",
    "import biokbase.data_api.object\n",
    "import biokbase.data_api.assembly\n",
    "import biokbase.data_api.taxon\n",
    "import biokbase.data_api.genome_annotation\n",
    "import pandas as pd\n",
    "import numpy as np\n",
    "import qgrid as qg\n",
    "qg.nbinstall()\n",
    "import matplotlib\n",
    "import matplotlib.pyplot as plt\n",
    "from matplotlib.font_manager import FontProperties\n",
    "%matplotlib inline"
   ]
  },
  {
   "cell_type": "code",
   "execution_count": 43,
   "metadata": {
    "collapsed": true
   },
   "outputs": [],
   "source": [
    "def get_genome_summary(genome_annotation=None):\n",
    "    if genome_annotation == None:\n",
    "        raise TypeError(\"No GenomeAnnotation object given.\")\n",
    "    elif genome_annotation.get_typestring().split('-')[0] not in biokbase.data_api.genome_annotation.TYPES:\n",
    "        raise TypeError(\"{0} is not a recognized GenomeAnnotation type.\".format(type(genome_annotation)))\n",
    "        annotation_details = dict()\n",
    "        annotation_details[\"feature_type_counts\"] = genome_annotation.get_feature_type_counts(annotation_details[\"feature_types\"])\n",
    "        print(annotation_details[\"feature_type_counts\"])\n",
    "    return annotation_details"
   ]
  },
  {
   "cell_type": "code",
   "execution_count": 44,
   "metadata": {
    "collapsed": false
   },
   "outputs": [],
   "source": [
    "import pprint\n",
    "import datetime\n",
    "\n",
    "def parse_all_existing_annotations():\n",
    "    annotations = dict()\n",
    "    for x in object_list:\n",
    "        if x.type.startswith(\"KBaseGenomes.Genome\"):\n",
    "            annotations[x.name] = x\n",
    "    return annotations\n",
    "\n",
    "b = biokbase.data_api.browse(1011)\n",
    "\n",
    "object_list = b.ls()\n",
    "\n",
    "melampsora = b[\"kb|g.3157\"]\n",
    "arabidopsis = b[\"kb|g.3899\"]"
   ]
  },
  {
   "cell_type": "code",
   "execution_count": 45,
   "metadata": {
    "collapsed": false
   },
   "outputs": [
    {
     "name": "stdout",
     "output_type": "stream",
     "text": [
      "\n",
      "\n",
      "################################################################################\n",
      "################################################################################\n",
      "\n",
      "\n",
      "kb|g.3157\n"
     ]
    },
    {
     "ename": "UnboundLocalError",
     "evalue": "local variable 'annotation_details' referenced before assignment",
     "output_type": "error",
     "traceback": [
      "\u001b[0;31m---------------------------------------------------------------------------\u001b[0m",
      "\u001b[0;31mUnboundLocalError\u001b[0m                         Traceback (most recent call last)",
      "\u001b[0;32m<ipython-input-45-aa0e88ed6320>\u001b[0m in \u001b[0;36m<module>\u001b[0;34m()\u001b[0m\n\u001b[1;32m      9\u001b[0m \u001b[0;34m\u001b[0m\u001b[0m\n\u001b[1;32m     10\u001b[0m     \u001b[0;32mprint\u001b[0m \u001b[0mn\u001b[0m\u001b[0;34m\u001b[0m\u001b[0m\n\u001b[0;32m---> 11\u001b[0;31m     \u001b[0moverview\u001b[0m \u001b[0;34m=\u001b[0m \u001b[0mget_genome_summary\u001b[0m\u001b[0;34m(\u001b[0m\u001b[0mannotations\u001b[0m\u001b[0;34m[\u001b[0m\u001b[0mn\u001b[0m\u001b[0;34m]\u001b[0m\u001b[0;34m)\u001b[0m\u001b[0;34m\u001b[0m\u001b[0m\n\u001b[0m\u001b[1;32m     12\u001b[0m     \u001b[0mpprint\u001b[0m\u001b[0;34m.\u001b[0m\u001b[0mpprint\u001b[0m\u001b[0;34m(\u001b[0m\u001b[0moverview\u001b[0m\u001b[0;34m)\u001b[0m\u001b[0;34m\u001b[0m\u001b[0m\n\u001b[1;32m     13\u001b[0m \u001b[0;34m\u001b[0m\u001b[0m\n",
      "\u001b[0;32m<ipython-input-43-a05675b0088d>\u001b[0m in \u001b[0;36mget_genome_summary\u001b[0;34m(genome_annotation)\u001b[0m\n\u001b[1;32m      7\u001b[0m         \u001b[0mannotation_details\u001b[0m\u001b[0;34m[\u001b[0m\u001b[0;34m\"feature_type_counts\"\u001b[0m\u001b[0;34m]\u001b[0m \u001b[0;34m=\u001b[0m \u001b[0mgenome_annotation\u001b[0m\u001b[0;34m.\u001b[0m\u001b[0mget_feature_type_counts\u001b[0m\u001b[0;34m(\u001b[0m\u001b[0mannotation_details\u001b[0m\u001b[0;34m[\u001b[0m\u001b[0;34m\"feature_types\"\u001b[0m\u001b[0;34m]\u001b[0m\u001b[0;34m)\u001b[0m\u001b[0;34m\u001b[0m\u001b[0m\n\u001b[1;32m      8\u001b[0m         \u001b[0;32mprint\u001b[0m\u001b[0;34m(\u001b[0m\u001b[0mannotation_details\u001b[0m\u001b[0;34m[\u001b[0m\u001b[0;34m\"feature_type_counts\"\u001b[0m\u001b[0;34m]\u001b[0m\u001b[0;34m)\u001b[0m\u001b[0;34m\u001b[0m\u001b[0m\n\u001b[0;32m----> 9\u001b[0;31m     \u001b[0;32mreturn\u001b[0m \u001b[0mannotation_details\u001b[0m\u001b[0;34m\u001b[0m\u001b[0m\n\u001b[0m",
      "\u001b[0;31mUnboundLocalError\u001b[0m: local variable 'annotation_details' referenced before assignment"
     ]
    }
   ],
   "source": [
    "annotations = {test.name: test.object}\n",
    "\n",
    "start = datetime.datetime.utcnow()\n",
    "for n in annotations:\n",
    "    print '\\n'\n",
    "    print '#'*80\n",
    "    print '#'*80\n",
    "    print '\\n'    \n",
    "    \n",
    "    print n\n",
    "    overview = get_genome_summary(annotations[n])\n",
    "    pprint.pprint(overview)\n",
    "    \n",
    "    print '\\n'\n",
    "    print '#'*80\n",
    "    print '#'*80\n",
    "    print '\\n'\n",
    "end = datetime.datetime.utcnow()\n",
    "\n",
    "print \"Total time to summarize existing Genome Annotations, Taxons, Assemblies : {0}\".format(end - start)"
   ]
  },
  {
   "cell_type": "code",
   "execution_count": null,
   "metadata": {
    "collapsed": true
   },
   "outputs": [],
   "source": []
  }
 ],
 "metadata": {
  "kernelspec": {
   "display_name": "Python 2",
   "language": "python",
   "name": "python2"
  },
  "language_info": {
   "codemirror_mode": {
    "name": "ipython",
    "version": 2
   },
   "file_extension": ".py",
   "mimetype": "text/x-python",
   "name": "python",
   "nbconvert_exporter": "python",
   "pygments_lexer": "ipython2",
   "version": "2.7.10"
  }
 },
 "nbformat": 4,
 "nbformat_minor": 0
}
