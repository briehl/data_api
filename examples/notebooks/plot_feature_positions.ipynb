{
 "cells": [
  {
   "cell_type": "markdown",
   "metadata": {},
   "source": [
    "# Introduction\n",
    "This notebook shows how to use the Data API to plot the features in a genome. After initialization, this is broken into just a few high-level steps:\n",
    "* Load up a workspace (namespace for the data, but also each narrative has its own workspace)\n",
    "* Find genomes in the workspace\n",
    "* Select one of those genomes\n",
    "* Get the feature positions in the selected genome\n",
    "* Plot the feature positions"
   ]
  },
  {
   "cell_type": "markdown",
   "metadata": {},
   "source": [
    "## Initialize"
   ]
  },
  {
   "cell_type": "code",
   "execution_count": 1,
   "metadata": {
    "collapsed": false
   },
   "outputs": [],
   "source": [
    "%matplotlib notebook\n",
    "import seaborn as sns\n",
    "import os\n",
    "from biokbase import data_api\n",
    "from biokbase.data_api import display"
   ]
  },
  {
   "cell_type": "code",
   "execution_count": 17,
   "metadata": {
    "collapsed": false
   },
   "outputs": [
    {
     "data": {
      "text/plain": [
       "<biokbase.data_api.genome_annotation.GenomeAnnotationAPI at 0x10b8d9310>"
      ]
     },
     "execution_count": 17,
     "metadata": {},
     "output_type": "execute_result"
    }
   ],
   "source": [
    "b = data_api.browse(1013)\n",
    "g = b['kb|g.1'].object\n",
    "g"
   ]
  },
  {
   "cell_type": "markdown",
   "metadata": {},
   "source": [
    "## Get genomes from workspace 654"
   ]
  },
  {
   "cell_type": "code",
   "execution_count": 2,
   "metadata": {
    "collapsed": true
   },
   "outputs": [],
   "source": [
    "# Get a \"browser\" for the workspace\n",
    "b = data_api.browse(654)"
   ]
  },
  {
   "cell_type": "code",
   "execution_count": 3,
   "metadata": {
    "collapsed": false
   },
   "outputs": [],
   "source": [
    "# Get API object for 2nd genome (index 1)\n",
    "g1 = b.filter(type_re='KBaseGenomesCondensedPrototypeV2.GenomeAnnotation-.*')[1].object"
   ]
  },
  {
   "cell_type": "code",
   "execution_count": 5,
   "metadata": {
    "collapsed": false
   },
   "outputs": [
    {
     "data": {
      "text/html": [
       "<b>Taxonomy ID</b>: 4565<br>\n",
       "        <b>Name</b>: Triticum aestivum<br>\n",
       "        <b>Aliases</b>:<br>\n",
       "        \n",
       "        &nbsp;&nbsp;bread wheat<br>\n",
       "        \n",
       "        &nbsp;&nbsp;Triticum vulgare<br>\n",
       "        \n",
       "        &nbsp;&nbsp;Triticum aestivum subsp. aestivum<br>\n",
       "        \n",
       "        &nbsp;&nbsp;wheat<br>\n",
       "        \n",
       "        &nbsp;&nbsp;common wheat<br>\n",
       "        \n",
       "        &nbsp;&nbsp;Canadian hard winter wheat<br>\n",
       "        \n",
       "        <b>Classification</b>:<br>\n",
       "    <span style=\"margin-left: 0px\">\n",
       "    <span style=\"font-size: 50%\">&gt;</span>&nbsp;Eukaryota\n",
       "    </span><br>\n",
       "    <span style=\"margin-left: 10px\">\n",
       "    <span style=\"font-size: 50%\">&gt;</span>&nbsp; Viridiplantae\n",
       "    </span><br>\n",
       "    <span style=\"margin-left: 20px\">\n",
       "    <span style=\"font-size: 50%\">&gt;</span>&nbsp; Streptophyta\n",
       "    </span><br>\n",
       "    <span style=\"margin-left: 30px\">\n",
       "    <span style=\"font-size: 50%\">&gt;</span>&nbsp; Embryophyta\n",
       "    </span><br>\n",
       "    <span style=\"margin-left: 40px\">\n",
       "    <span style=\"font-size: 50%\">&gt;</span>&nbsp; Tracheophyta\n",
       "    </span><br>\n",
       "    <span style=\"margin-left: 50px\">\n",
       "    <span style=\"font-size: 50%\">&gt;</span>&nbsp; Spermatophyta\n",
       "    </span><br>\n",
       "    <span style=\"margin-left: 60px\">\n",
       "    <span style=\"font-size: 50%\">&gt;</span>&nbsp; Magnoliophyta\n",
       "    </span><br>\n",
       "    <span style=\"margin-left: 70px\">\n",
       "    <span style=\"font-size: 50%\">&gt;</span>&nbsp; Liliopsida\n",
       "    </span><br>\n",
       "    <span style=\"margin-left: 80px\">\n",
       "    <span style=\"font-size: 50%\">&gt;</span>&nbsp; Poales\n",
       "    </span><br>\n",
       "    <span style=\"margin-left: 90px\">\n",
       "    <span style=\"font-size: 50%\">&gt;</span>&nbsp; Poaceae\n",
       "    </span><br>\n",
       "    <span style=\"margin-left: 100px\">\n",
       "    <span style=\"font-size: 50%\">&gt;</span>&nbsp; BOP clade\n",
       "    </span><br>\n",
       "    <span style=\"margin-left: 110px\">\n",
       "    <span style=\"font-size: 50%\">&gt;</span>&nbsp; Pooideae\n",
       "    </span><br>\n",
       "    <span style=\"margin-left: 120px\">\n",
       "    <span style=\"font-size: 50%\">&gt;</span>&nbsp; Triticodae\n",
       "    </span><br>\n",
       "    <span style=\"margin-left: 130px\">\n",
       "    <span style=\"font-size: 50%\">&gt;</span>&nbsp; Triticeae\n",
       "    </span><br>\n",
       "    <span style=\"margin-left: 140px\">\n",
       "    <span style=\"font-size: 50%\">&gt;</span>&nbsp; Triticinae\n",
       "    </span><br>\n",
       "    <span style=\"margin-left: 150px\">\n",
       "    <span style=\"font-size: 50%\">&gt;</span>&nbsp; Triticum\n",
       "    </span><br>"
      ],
      "text/plain": [
       "<biokbase.data_api.display.Organism at 0x10af0fe10>"
      ]
     },
     "execution_count": 5,
     "metadata": {},
     "output_type": "execute_result"
    }
   ],
   "source": [
    "display.Organism(g1)"
   ]
  },
  {
   "cell_type": "markdown",
   "metadata": {},
   "source": [
    "## Get feature positions in one of the genomes"
   ]
  },
  {
   "cell_type": "code",
   "execution_count": 6,
   "metadata": {
    "collapsed": false
   },
   "outputs": [],
   "source": [
    "f = display.FeaturePositions(g1)"
   ]
  },
  {
   "cell_type": "code",
   "execution_count": 11,
   "metadata": {
    "collapsed": false
   },
   "outputs": [
    {
     "data": {
      "text/html": [
       "<script type=\"text/javascript\">\n",
       "if ($(\"#dg-css\").length == 0){\n",
       "    $(\"head\").append([\n",
       "        \"<link href='/nbextensions/qgridjs/lib/slick.grid.css' rel='stylesheet'>\",\n",
       "        \"<link href='/nbextensions/qgridjs/lib/slick-default-theme.css' rel='stylesheet'>\",\n",
       "        \"<link href='http://cdnjs.cloudflare.com/ajax/libs/jqueryui/1.10.4/css/jquery-ui.min.css' rel='stylesheet'>\",\n",
       "        \"<link id='dg-css' href='/nbextensions/qgridjs/qgrid.css' rel='stylesheet'>\"\n",
       "    ]);\n",
       "}\n",
       "</script>\n",
       "<div class='q-grid-container'>\n",
       "<div id='aefcdc27-547b-43ae-b6f2-5c7560c16502' class='q-grid'></div>\n",
       "</div>"
      ]
     },
     "metadata": {},
     "output_type": "display_data"
    },
    {
     "data": {
      "application/javascript": [
       "var path_dictionary = {\n",
       "    jquery_drag: \"/nbextensions/qgridjs/lib/jquery.event.drag-2.2\",\n",
       "    slick_core: \"/nbextensions/qgridjs/lib/slick.core.2.2\",\n",
       "    slick_data_view: \"/nbextensions/qgridjs/lib/slick.dataview.2.2\",\n",
       "    slick_grid: \"/nbextensions/qgridjs/lib/slick.grid.2.2\",\n",
       "    data_grid: \"/nbextensions/qgridjs/qgrid\",\n",
       "    date_filter: \"/nbextensions/qgridjs/qgrid.datefilter\",\n",
       "    slider_filter: \"/nbextensions/qgridjs/qgrid.sliderfilter\",\n",
       "    filter_base:  \"/nbextensions/qgridjs/qgrid.filterbase\",\n",
       "    handlebars: \"https://cdnjs.cloudflare.com/ajax/libs/handlebars.js/2.0.0/handlebars.min\"\n",
       "};\n",
       "\n",
       "var existing_config = require.s.contexts._.config;\n",
       "if (!existing_config.paths['underscore']){\n",
       "    path_dictionary['underscore'] = \"https://cdnjs.cloudflare.com/ajax/libs/underscore.js/1.7.0/underscore-min\";\n",
       "}\n",
       "\n",
       "if (!existing_config.paths['moment']){\n",
       "    path_dictionary['moment'] = \"https://cdnjs.cloudflare.com/ajax/libs/moment.js/2.8.3/moment.min\";\n",
       "}\n",
       "\n",
       "if (!existing_config.paths['jqueryui']){\n",
       "    path_dictionary['jqueryui'] = \"https://ajax.googleapis.com/ajax/libs/jqueryui/1.11.1/jquery-ui.min\";\n",
       "}\n",
       "\n",
       "require.config({\n",
       "    paths: path_dictionary\n",
       "});\n",
       "\n",
       "if (typeof jQuery === 'function') {\n",
       "    define('jquery', function() { return jQuery; });\n",
       "}\n",
       "\n",
       "require([\n",
       "    'jquery',\n",
       "    'jquery_drag',\n",
       "    'slick_core',\n",
       "    'slick_data_view'\n",
       "],\n",
       "function($){\n",
       "    $('#aefcdc27-547b-43ae-b6f2-5c7560c16502').closest('.rendered_html').removeClass('rendered_html');\n",
       "    require(['slick_grid'], function(){\n",
       "        require([\"data_grid\"], function(dgrid){\n",
       "            var grid = new dgrid.QGrid('#aefcdc27-547b-43ae-b6f2-5c7560c16502', [{\"null\":0,\"bar\":[\"a\",\"c\",\"b\"],\"foo\":1},{\"null\":1,\"bar\":[\"a\",\"c\",\"b\"],\"foo\":2},{\"null\":2,\"bar\":[\"a\",\"c\",\"b\"],\"foo\":3}], [{\"field\": null, \"type\": \"Integer\"}, {\"field\": \"bar\"}, {\"field\": \"foo\", \"type\": \"Integer\"}]);\n",
       "            grid.initialize_slick_grid();\n",
       "        });\n",
       "    });\n",
       "});"
      ]
     },
     "metadata": {},
     "output_type": "display_data"
    }
   ],
   "source": [
    "reload(qgrid)\n",
    "qgrid.nbinstall()\n",
    "import pandas as pd\n",
    "f2 = pd.DataFrame({'foo': (1,2,3), 'bar': {'a', 'b', 'c'}})\n",
    "qgrid.show_grid(f2)"
   ]
  },
  {
   "cell_type": "markdown",
   "metadata": {},
   "source": [
    "## Plot the features\n",
    "A 'stripplot' shows each feature as a dot, with the X coordinate being the start position in the sequence and on the Y axis is each type of feature in the dataset (sorted, by default, alphabetically). This kind of plot doesn't help with any detailed analysis, but it provides a good simple overview of the feature data.\n",
    "\n",
    "Because we did `%matplotlib notebook` to load matplotlib, we automatically get zooming and panning. In essence, this makes our plat a mini-genome-browser with \"tracks\" for each feature."
   ]
  },
  {
   "cell_type": "code",
   "execution_count": 5,
   "metadata": {
    "collapsed": false
   },
   "outputs": [],
   "source": [
    "import numpy as np"
   ]
  },
  {
   "cell_type": "code",
   "execution_count": 2,
   "metadata": {
    "collapsed": false
   },
   "outputs": [],
   "source": [
    "import pickle\n",
    "f = pickle.load(open('featurepos'))"
   ]
  },
  {
   "cell_type": "code",
   "execution_count": 4,
   "metadata": {
    "collapsed": false
   },
   "outputs": [
    {
     "data": {
      "text/plain": [
       "<matplotlib.axes._subplots.AxesSubplot at 0x114c30050>"
      ]
     },
     "execution_count": 4,
     "metadata": {},
     "output_type": "execute_result"
    }
   ],
   "source": [
    "sns.stripplot(x='start', y='type', marker='.', size=10, data=f)"
   ]
  },
  {
   "cell_type": "code",
   "execution_count": 13,
   "metadata": {
    "collapsed": false
   },
   "outputs": [
    {
     "data": {
      "text/plain": [
       "7152"
      ]
     },
     "execution_count": 13,
     "metadata": {},
     "output_type": "execute_result"
    }
   ],
   "source": [
    "max(f['len'])"
   ]
  },
  {
   "cell_type": "code",
   "execution_count": 42,
   "metadata": {
    "collapsed": false
   },
   "outputs": [],
   "source": [
    "f.to_pickle('featurepos')"
   ]
  },
  {
   "cell_type": "code",
   "execution_count": null,
   "metadata": {
    "collapsed": true
   },
   "outputs": [],
   "source": []
  }
 ],
 "metadata": {
  "kernelspec": {
   "display_name": "Python 2",
   "language": "python",
   "name": "python2"
  },
  "language_info": {
   "codemirror_mode": {
    "name": "ipython",
    "version": 2
   },
   "file_extension": ".py",
   "mimetype": "text/x-python",
   "name": "python",
   "nbconvert_exporter": "python",
   "pygments_lexer": "ipython2",
   "version": "2.7.10"
  }
 },
 "nbformat": 4,
 "nbformat_minor": 0
}
