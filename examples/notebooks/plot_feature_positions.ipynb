{
 "cells": [
  {
   "cell_type": "markdown",
   "metadata": {},
   "source": [
    "# Introduction\n",
    "This notebook shows how to use the Data API to plot the features in a genome. After initialization, this is broken into just a few high-level steps:\n",
    "* Load up a workspace (namespace for the data, but also each narrative has its own workspace)\n",
    "* Find genomes in the workspace\n",
    "* Select one of those genomes\n",
    "* Get the feature positions in the selected genome\n",
    "* Plot the feature positions"
   ]
  },
  {
   "cell_type": "markdown",
   "metadata": {},
   "source": [
    "## Initialize"
   ]
  },
  {
   "cell_type": "code",
   "execution_count": 1,
   "metadata": {
    "collapsed": false
   },
   "outputs": [],
   "source": [
    "%matplotlib notebook\n",
    "import seaborn as sns\n",
    "import os\n",
    "from biokbase import data_api\n",
    "from biokbase.data_api import display\n",
    "# pretty table displays\n",
    "import qgrid\n",
    "qgrid.nbinstall()"
   ]
  },
  {
   "cell_type": "markdown",
   "metadata": {},
   "source": [
    "## Get genomes from workspace 654"
   ]
  },
  {
   "cell_type": "code",
   "execution_count": 2,
   "metadata": {
    "collapsed": true
   },
   "outputs": [],
   "source": [
    "# Get a \"browser\" for the workspace\n",
    "b = data_api.browse(654)"
   ]
  },
  {
   "cell_type": "code",
   "execution_count": 3,
   "metadata": {
    "collapsed": false
   },
   "outputs": [],
   "source": [
    "# Get API object for 2nd genome (index 1)\n",
    "g1 = b.filter(type_re='KBaseGenomesCondensedPrototypeV2.GenomeAnnotation-.*')[1].object"
   ]
  },
  {
   "cell_type": "code",
   "execution_count": 4,
   "metadata": {
    "collapsed": false
   },
   "outputs": [
    {
     "name": "stdout",
     "output_type": "stream",
     "text": [
      "{u'domain': u'Plant', u'scientific_lineage': u'Eukaryota; Viridiplantae; Streptophyta; Embryophyta; Tracheophyta; Spermatophyta; Magnoliophyta; Liliopsida; Poales; Poaceae; BOP clade; Pooideae; Triticodae; Triticeae; Triticinae; Triticum', u'scientific_name': u'Triticum aestivum', u'genetic_code': 1, u'taxonomy_id': 4565, u'aliases': [u'bread wheat', u'Triticum vulgare', u'Triticum aestivum subsp. aestivum', u'wheat', u'common wheat', u'Canadian hard winter wheat']}\n"
     ]
    },
    {
     "data": {
      "text/html": [
       "<b>Taxonomy ID</b>: 4565<br>\n",
       "        <b>Name</b>: Triticum aestivum<br>\n",
       "        <b>Aliases</b>:<br>\n",
       "        \n",
       "        &nbsp;&nbsp;bread wheat<br>\n",
       "        \n",
       "        &nbsp;&nbsp;Triticum vulgare<br>\n",
       "        \n",
       "        &nbsp;&nbsp;Triticum aestivum subsp. aestivum<br>\n",
       "        \n",
       "        &nbsp;&nbsp;wheat<br>\n",
       "        \n",
       "        &nbsp;&nbsp;common wheat<br>\n",
       "        \n",
       "        &nbsp;&nbsp;Canadian hard winter wheat<br>\n",
       "        \n",
       "        <b>Classification</b>:<br>\n",
       "    <span style=\"margin-left: 0px\">\n",
       "    <span style=\"font-size: 50%\">&gt;</span>&nbsp;Triticum aestivum\n",
       "    </span><br>"
      ],
      "text/plain": [
       "<biokbase.data_api.display.Organism at 0x10affc250>"
      ]
     },
     "execution_count": 4,
     "metadata": {},
     "output_type": "execute_result"
    }
   ],
   "source": [
    "display.Organism(g1)"
   ]
  },
  {
   "cell_type": "markdown",
   "metadata": {},
   "source": [
    "## Get feature positions in one of the genomes"
   ]
  },
  {
   "cell_type": "code",
   "execution_count": 8,
   "metadata": {
    "collapsed": false
   },
   "outputs": [],
   "source": [
    "f = display.FeaturePositions(g1)"
   ]
  },
  {
   "cell_type": "markdown",
   "metadata": {},
   "source": [
    "## Plot the features\n",
    "A 'stripplot' shows each feature as a dot, with the X coordinate being the start position in the sequence and on the Y axis is each type of feature in the dataset (sorted, by default, alphabetically). This kind of plot doesn't help with any detailed analysis, but it provides a good simple overview of the feature data.\n",
    "\n",
    "Because we did `%matplotlib notebook` to load matplotlib, we automatically get zooming and panning. In essence, this makes our plat a mini-genome-browser with \"tracks\" for each feature."
   ]
  },
  {
   "cell_type": "code",
   "execution_count": 5,
   "metadata": {
    "collapsed": false
   },
   "outputs": [],
   "source": [
    "import numpy as np"
   ]
  },
  {
   "cell_type": "code",
   "execution_count": 2,
   "metadata": {
    "collapsed": false
   },
   "outputs": [],
   "source": [
    "import pickle\n",
    "f = pickle.load(open('featurepos'))"
   ]
  },
  {
   "cell_type": "code",
   "execution_count": 4,
   "metadata": {
    "collapsed": false
   },
   "outputs": [
    {
     "data": {
      "text/plain": [
       "<matplotlib.axes._subplots.AxesSubplot at 0x114c30050>"
      ]
     },
     "execution_count": 4,
     "metadata": {},
     "output_type": "execute_result"
    }
   ],
   "source": [
    "sns.stripplot(x='start', y='type', marker='.', size=10, data=f)"
   ]
  },
  {
   "cell_type": "code",
   "execution_count": 13,
   "metadata": {
    "collapsed": false
   },
   "outputs": [
    {
     "data": {
      "text/plain": [
       "7152"
      ]
     },
     "execution_count": 13,
     "metadata": {},
     "output_type": "execute_result"
    }
   ],
   "source": [
    "max(f['len'])"
   ]
  },
  {
   "cell_type": "code",
   "execution_count": 42,
   "metadata": {
    "collapsed": false
   },
   "outputs": [],
   "source": [
    "f.to_pickle('featurepos')"
   ]
  },
  {
   "cell_type": "code",
   "execution_count": null,
   "metadata": {
    "collapsed": true
   },
   "outputs": [],
   "source": []
  }
 ],
 "metadata": {
  "kernelspec": {
   "display_name": "Python 2",
   "language": "python",
   "name": "python2"
  },
  "language_info": {
   "codemirror_mode": {
    "name": "ipython",
    "version": 2
   },
   "file_extension": ".py",
   "mimetype": "text/x-python",
   "name": "python",
   "nbconvert_exporter": "python",
   "pygments_lexer": "ipython2",
   "version": "2.7.10"
  }
 },
 "nbformat": 4,
 "nbformat_minor": 0
}
